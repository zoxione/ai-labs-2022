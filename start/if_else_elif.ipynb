{
  "nbformat": 4,
  "nbformat_minor": 0,
  "metadata": {
    "colab": {
      "name": "if-else-elif.ipynb",
      "provenance": []
    },
    "kernelspec": {
      "name": "python3",
      "display_name": "Python 3"
    },
    "language_info": {
      "name": "python"
    }
  },
  "cells": [
    {
      "cell_type": "code",
      "metadata": {
        "colab": {
          "base_uri": "https://localhost:8080/"
        },
        "id": "umutu87-fdje",
        "outputId": "46a21002-ced0-4e6f-ae86-b8fda01b8b83"
      },
      "source": [
        "company = \"my.com\"\n",
        "\n",
        "if \"my\" in company:\n",
        "  print(\"Условие выполнено!\")\n"
      ],
      "execution_count": null,
      "outputs": [
        {
          "output_type": "stream",
          "name": "stdout",
          "text": [
            "Условие выполнено!\n"
          ]
        }
      ]
    },
    {
      "cell_type": "code",
      "metadata": {
        "colab": {
          "base_uri": "https://localhost:8080/"
        },
        "id": "YdrerJjtgMlo",
        "outputId": "60c15559-11c7-42e4-e222-ab64f740be32"
      },
      "source": [
        "company = \"google.com\"\n",
        "\n",
        "if \"my\" in company:\n",
        "    print(\"Условие выполнено!\")\n",
        "else:\n",
        "    print(\"Условие не выполнено!\")\n"
      ],
      "execution_count": null,
      "outputs": [
        {
          "output_type": "stream",
          "name": "stdout",
          "text": [
            "Условие не выполнено!\n"
          ]
        }
      ]
    },
    {
      "cell_type": "code",
      "metadata": {
        "colab": {
          "base_uri": "https://localhost:8080/"
        },
        "id": "LGTaw17MgeCk",
        "outputId": "dd8019d6-d53f-4c57-ef73-d4230d9b1210"
      },
      "source": [
        "company = \"google.com\"\n",
        "\n",
        "if \"my\" in company:\n",
        "    print(\"Подстрока my найдена\")\n",
        "elif \"google\" in company:\n",
        "    print(\"Подстрока google найдена\")\n",
        "else:\n",
        "    print(\"Подстрока не найдена\")\n"
      ],
      "execution_count": null,
      "outputs": [
        {
          "output_type": "stream",
          "name": "stdout",
          "text": [
            "Подстрока google найдена\n"
          ]
        }
      ]
    },
    {
      "cell_type": "code",
      "metadata": {
        "colab": {
          "base_uri": "https://localhost:8080/"
        },
        "id": "t7bmxhQ336Ey",
        "outputId": "646d5c29-b904-46cb-b366-cac373717857"
      },
      "source": [
        "company = \"example.net\"\n",
        "\n",
        "if \"my\" in company or company.endswith(\".net\"):\n",
        "  print(\"Условие выполнено!\")\n"
      ],
      "execution_count": null,
      "outputs": [
        {
          "output_type": "stream",
          "name": "stdout",
          "text": [
            "Условие выполнено!\n"
          ]
        }
      ]
    }
  ]
}