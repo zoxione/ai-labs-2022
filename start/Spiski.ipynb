{
  "nbformat": 4,
  "nbformat_minor": 0,
  "metadata": {
    "colab": {
      "name": "Списки.ipynb",
      "provenance": []
    },
    "kernelspec": {
      "name": "python3",
      "display_name": "Python 3"
    },
    "language_info": {
      "name": "python"
    }
  },
  "cells": [
    {
      "cell_type": "markdown",
      "metadata": {
        "id": "wbkLD3KawsfG"
      },
      "source": [
        "**Списки**"
      ]
    },
    {
      "cell_type": "markdown",
      "metadata": {
        "id": "SrvunR__wwm9"
      },
      "source": [
        "Список — это упорядоченный набор объектов, хранящихся в одной переменной. Сами списки определяются с помощью квадратных скобочек или с помощью вызова литерала list.  В отличие от массивов в других языках, у списков нет никаких ограничений на тип переменных, поэтому в них могут храниться разные объекты, в том числе и другие коллекции, как, например, user_data. Однако для таких данных чаще всего используются кортежи, о которых будет сказано позже. Но чаще всего списки все же содержат переменные одного типа. "
      ]
    },
    {
      "cell_type": "code",
      "metadata": {
        "id": "a0Jmw7o4w1LH"
      },
      "source": [
        "empty_list = [] \n",
        "\n",
        "empty_list = list() \n",
        "\n",
        " \n",
        "\n",
        "none_list = [None] * 10 \n",
        "\n",
        " \n",
        "\n",
        "collections = ['list', 'tuple', 'dict', 'set'] \n",
        "\n",
        " \n",
        "\n",
        "user_data = [ \n",
        "\n",
        "    ['Elena', 4.4], \n",
        "\n",
        "    ['Andrey', 4.2] \n",
        "\n",
        "] "
      ],
      "execution_count": null,
      "outputs": []
    },
    {
      "cell_type": "markdown",
      "metadata": {
        "id": "blf-7ka5w_pI"
      },
      "source": [
        "В питоне не нужно явно указывать размер списка или вручную выделять на него память. Длину списка можно узнать с помощью встроенной функции len. Размер списка хранится в структуре, с помощью которой реализован тип список, поэтому длина вычисляется за константное время. "
      ]
    },
    {
      "cell_type": "code",
      "metadata": {
        "colab": {
          "base_uri": "https://localhost:8080/"
        },
        "id": "CBQ8r2shxAIm",
        "outputId": "9fed5ed2-3ce0-443e-e9ee-f05f2b9bc0c7"
      },
      "source": [
        "len(collections)"
      ],
      "execution_count": null,
      "outputs": [
        {
          "output_type": "execute_result",
          "data": {
            "text/plain": [
              "4"
            ]
          },
          "metadata": {},
          "execution_count": 3
        }
      ]
    },
    {
      "cell_type": "markdown",
      "metadata": {
        "id": "ddGRh7AaxFMV"
      },
      "source": [
        "**Индексы и срезы** "
      ]
    },
    {
      "cell_type": "markdown",
      "metadata": {
        "id": "-9ya6tmpxGdd"
      },
      "source": [
        "Чтобы обратиться к конкретному элементу списка, мы используем тот же механизм, что и для строк. Нумерация элементов начинается с нуля. "
      ]
    },
    {
      "cell_type": "code",
      "metadata": {
        "colab": {
          "base_uri": "https://localhost:8080/"
        },
        "id": "Megv5UpaxKCl",
        "outputId": "b919b062-375d-4555-83c4-f870acfb2f46"
      },
      "source": [
        "print(collections) \n",
        "\n",
        "print(collections[0]) \n",
        "\n",
        "print(collections[-1]) "
      ],
      "execution_count": null,
      "outputs": [
        {
          "output_type": "stream",
          "name": "stdout",
          "text": [
            "['list', 'tuple', 'dict', 'set']\n",
            "list\n",
            "set\n"
          ]
        }
      ]
    },
    {
      "cell_type": "markdown",
      "metadata": {
        "id": "eNorBzhaxXnk"
      },
      "source": [
        "Мы можем использовать доступ по индексу для присваивания. "
      ]
    },
    {
      "cell_type": "code",
      "metadata": {
        "colab": {
          "base_uri": "https://localhost:8080/"
        },
        "id": "EZL8ubJYxYB1",
        "outputId": "8255eafa-844b-4afe-c604-d3f9bb7a2a7b"
      },
      "source": [
        "collections[3] = 'frozenset' \n",
        "\n",
        "print(collections) "
      ],
      "execution_count": null,
      "outputs": [
        {
          "output_type": "stream",
          "name": "stdout",
          "text": [
            "['list', 'tuple', 'dict', 'frozenset']\n"
          ]
        }
      ]
    },
    {
      "cell_type": "markdown",
      "metadata": {
        "id": "9EqAXRJIxdPT"
      },
      "source": [
        "Если попробовать обратиться к несуществующему индексу, то возникнет ошибка "
      ]
    },
    {
      "cell_type": "code",
      "metadata": {
        "colab": {
          "base_uri": "https://localhost:8080/",
          "height": 165
        },
        "id": "_WJyA6ylxdsM",
        "outputId": "a57779c5-9ba5-45b4-c9ce-48c1e9c5d912"
      },
      "source": [
        "collections[10]"
      ],
      "execution_count": null,
      "outputs": [
        {
          "output_type": "error",
          "ename": "IndexError",
          "evalue": "ignored",
          "traceback": [
            "\u001b[0;31m---------------------------------------------------------------------------\u001b[0m",
            "\u001b[0;31mIndexError\u001b[0m                                Traceback (most recent call last)",
            "\u001b[0;32m<ipython-input-6-2668a2a12b12>\u001b[0m in \u001b[0;36m<module>\u001b[0;34m()\u001b[0m\n\u001b[0;32m----> 1\u001b[0;31m \u001b[0mcollections\u001b[0m\u001b[0;34m[\u001b[0m\u001b[0;36m10\u001b[0m\u001b[0;34m]\u001b[0m\u001b[0;34m\u001b[0m\u001b[0;34m\u001b[0m\u001b[0m\n\u001b[0m",
            "\u001b[0;31mIndexError\u001b[0m: list index out of range"
          ]
        }
      ]
    },
    {
      "cell_type": "markdown",
      "metadata": {
        "id": "AxoNzPSMxg29"
      },
      "source": [
        "Проверить, содержит ли список некоторый объект, можно с помощью ключевого слова \"in\" "
      ]
    },
    {
      "cell_type": "code",
      "metadata": {
        "colab": {
          "base_uri": "https://localhost:8080/"
        },
        "id": "Eb8uP6Elxjkm",
        "outputId": "44ec1665-c027-4127-9053-06a96ee8e071"
      },
      "source": [
        "'tuple' in collections"
      ],
      "execution_count": null,
      "outputs": [
        {
          "output_type": "execute_result",
          "data": {
            "text/plain": [
              "True"
            ]
          },
          "metadata": {},
          "execution_count": 7
        }
      ]
    },
    {
      "cell_type": "markdown",
      "metadata": {
        "id": "4KcPcDPXxpBc"
      },
      "source": [
        "Срезы в списках работают точно так же, как и в строках. Создадим список из 10 элементов с помощью встроенной функции range. "
      ]
    },
    {
      "cell_type": "code",
      "metadata": {
        "colab": {
          "base_uri": "https://localhost:8080/"
        },
        "id": "eC7m47VyxpjH",
        "outputId": "7dffdff6-d316-4073-fbf5-2a565e66cb4d"
      },
      "source": [
        "range_list = list(range(10)) \n",
        "\n",
        "print(range_list) "
      ],
      "execution_count": null,
      "outputs": [
        {
          "output_type": "stream",
          "name": "stdout",
          "text": [
            "[0, 1, 2, 3, 4, 5, 6, 7, 8, 9]\n"
          ]
        }
      ]
    },
    {
      "cell_type": "code",
      "metadata": {
        "colab": {
          "base_uri": "https://localhost:8080/"
        },
        "id": "X_yQ_kSHxupE",
        "outputId": "a7df68cd-0da0-4e16-9063-ffadd3e712a6"
      },
      "source": [
        "range_list[1:3] "
      ],
      "execution_count": null,
      "outputs": [
        {
          "output_type": "execute_result",
          "data": {
            "text/plain": [
              "[1, 2]"
            ]
          },
          "metadata": {},
          "execution_count": 9
        }
      ]
    },
    {
      "cell_type": "code",
      "metadata": {
        "colab": {
          "base_uri": "https://localhost:8080/"
        },
        "id": "NXoaiAkPxxi9",
        "outputId": "118c1230-1097-4317-f49b-338f818a3f09"
      },
      "source": [
        "range_list[3:]"
      ],
      "execution_count": null,
      "outputs": [
        {
          "output_type": "execute_result",
          "data": {
            "text/plain": [
              "[3, 4, 5, 6, 7, 8, 9]"
            ]
          },
          "metadata": {},
          "execution_count": 10
        }
      ]
    },
    {
      "cell_type": "code",
      "metadata": {
        "colab": {
          "base_uri": "https://localhost:8080/"
        },
        "id": "WVHeNm4mx07M",
        "outputId": "8fcb5f22-10f3-441c-a3b5-d5f034720da7"
      },
      "source": [
        "range_list[:5]"
      ],
      "execution_count": null,
      "outputs": [
        {
          "output_type": "execute_result",
          "data": {
            "text/plain": [
              "[0, 1, 2, 3, 4]"
            ]
          },
          "metadata": {},
          "execution_count": 11
        }
      ]
    },
    {
      "cell_type": "code",
      "metadata": {
        "colab": {
          "base_uri": "https://localhost:8080/"
        },
        "id": "FyX5fWQyx3-D",
        "outputId": "cae4c1c8-b120-410a-cb63-5f51a10ea0d8"
      },
      "source": [
        "print(range_list)"
      ],
      "execution_count": null,
      "outputs": [
        {
          "output_type": "stream",
          "name": "stdout",
          "text": [
            "[0, 1, 2, 3, 4, 5, 6, 7, 8, 9]\n"
          ]
        }
      ]
    },
    {
      "cell_type": "code",
      "metadata": {
        "colab": {
          "base_uri": "https://localhost:8080/"
        },
        "id": "1jCKCLDWx6Ts",
        "outputId": "10147e33-15a8-4b8c-cabc-8d509f1371e1"
      },
      "source": [
        "range_list[::2]"
      ],
      "execution_count": null,
      "outputs": [
        {
          "output_type": "execute_result",
          "data": {
            "text/plain": [
              "[0, 2, 4, 6, 8]"
            ]
          },
          "metadata": {},
          "execution_count": 13
        }
      ]
    },
    {
      "cell_type": "code",
      "metadata": {
        "colab": {
          "base_uri": "https://localhost:8080/"
        },
        "id": "MOZnVmxSx9em",
        "outputId": "b1fa2348-1aa5-4bc9-d045-d1f84278d00d"
      },
      "source": [
        "range_list[::-1]"
      ],
      "execution_count": null,
      "outputs": [
        {
          "output_type": "execute_result",
          "data": {
            "text/plain": [
              "[9, 8, 7, 6, 5, 4, 3, 2, 1, 0]"
            ]
          },
          "metadata": {},
          "execution_count": 14
        }
      ]
    },
    {
      "cell_type": "code",
      "metadata": {
        "colab": {
          "base_uri": "https://localhost:8080/"
        },
        "id": "QxiT6GEXyBdd",
        "outputId": "9f11018a-814b-48d3-f628-301a45cf9a99"
      },
      "source": [
        "range_list[1::2]"
      ],
      "execution_count": null,
      "outputs": [
        {
          "output_type": "execute_result",
          "data": {
            "text/plain": [
              "[1, 3, 5, 7, 9]"
            ]
          },
          "metadata": {},
          "execution_count": 15
        }
      ]
    },
    {
      "cell_type": "code",
      "metadata": {
        "colab": {
          "base_uri": "https://localhost:8080/"
        },
        "id": "ofZRcEklyEkD",
        "outputId": "73b2b0c0-9c3c-448b-cc2c-be489c3dac0f"
      },
      "source": [
        "range_list[5:1:-1]"
      ],
      "execution_count": null,
      "outputs": [
        {
          "output_type": "execute_result",
          "data": {
            "text/plain": [
              "[5, 4, 3, 2]"
            ]
          },
          "metadata": {},
          "execution_count": 16
        }
      ]
    },
    {
      "cell_type": "code",
      "metadata": {
        "colab": {
          "base_uri": "https://localhost:8080/"
        },
        "id": "OhelrsupyKVD",
        "outputId": "f1fa8459-db8a-4e12-8814-a1a65408c4ba"
      },
      "source": [
        "range_list[:] is range_list "
      ],
      "execution_count": null,
      "outputs": [
        {
          "output_type": "execute_result",
          "data": {
            "text/plain": [
              "False"
            ]
          },
          "metadata": {},
          "execution_count": 17
        }
      ]
    },
    {
      "cell_type": "markdown",
      "metadata": {
        "id": "LPkKeyRSyM6D"
      },
      "source": [
        "**Итерация**"
      ]
    },
    {
      "cell_type": "markdown",
      "metadata": {
        "id": "zNZDi9UYyN68"
      },
      "source": [
        "Списки как и строки поддерживают протокол итерации: "
      ]
    },
    {
      "cell_type": "code",
      "metadata": {
        "colab": {
          "base_uri": "https://localhost:8080/"
        },
        "id": "TxO9yjVQyQ0N",
        "outputId": "48c5fcdb-6164-438b-c325-4105cd8ffc7d"
      },
      "source": [
        "collections = ['list', 'tuple', 'dict', 'set'] \n",
        "\n",
        "for collection in collections: \n",
        "\n",
        "    print('Learning {}...'.format(collection)) "
      ],
      "execution_count": null,
      "outputs": [
        {
          "output_type": "stream",
          "name": "stdout",
          "text": [
            "Learning list...\n",
            "Learning tuple...\n",
            "Learning dict...\n",
            "Learning set...\n"
          ]
        }
      ]
    },
    {
      "cell_type": "markdown",
      "metadata": {
        "id": "W1ZRtCJNyZ89"
      },
      "source": [
        "Часто бывает нужно получить индекс текущего элемента при итерации. Для этого можно использовать встроенную функцию enumerate "
      ]
    },
    {
      "cell_type": "code",
      "metadata": {
        "colab": {
          "base_uri": "https://localhost:8080/"
        },
        "id": "WkFaTUjbycqr",
        "outputId": "2c0f2599-fc10-42aa-df95-44f2377fba53"
      },
      "source": [
        "for idx, collection in enumerate(collections): \n",
        "\n",
        "    print('#{} {}'.format(idx, collection)) "
      ],
      "execution_count": null,
      "outputs": [
        {
          "output_type": "stream",
          "name": "stdout",
          "text": [
            "#0 list\n",
            "#1 tuple\n",
            "#2 dict\n",
            "#3 set\n"
          ]
        }
      ]
    },
    {
      "cell_type": "markdown",
      "metadata": {
        "id": "6qP1Vn7N0wa_"
      },
      "source": [
        "**Добавление и удаление элементов**"
      ]
    },
    {
      "cell_type": "markdown",
      "metadata": {
        "id": "DOOODzvu01Y3"
      },
      "source": [
        "Списки, в отличие от строк, являются изменяемой структурой данных, а значит мы можем добавлять элементы в существующий список. "
      ]
    },
    {
      "cell_type": "code",
      "metadata": {
        "colab": {
          "base_uri": "https://localhost:8080/"
        },
        "id": "u-M1MSp206I-",
        "outputId": "bd3249cf-141d-46f0-9ead-d98b766afb96"
      },
      "source": [
        "collections.append('OrderedDict') \n",
        "\n",
        "print(collections) "
      ],
      "execution_count": null,
      "outputs": [
        {
          "output_type": "stream",
          "name": "stdout",
          "text": [
            "['list', 'tuple', 'dict', 'frozenset', 'ponyset', 'unicorndict', 'OrderedDict']\n"
          ]
        }
      ]
    },
    {
      "cell_type": "code",
      "metadata": {
        "colab": {
          "base_uri": "https://localhost:8080/"
        },
        "id": "YJtrXeJ31pNg",
        "outputId": "8148063a-25f9-408b-e10d-2b81038c801c"
      },
      "source": [
        "collections.extend(['ponyset', 'unicorndict']) \n",
        "\n",
        "print(collections)"
      ],
      "execution_count": null,
      "outputs": [
        {
          "output_type": "stream",
          "name": "stdout",
          "text": [
            "['list', 'tuple', 'dict', 'frozenset', 'ponyset', 'unicorndict', 'OrderedDict', 'ponyset', 'unicorndict']\n"
          ]
        }
      ]
    },
    {
      "cell_type": "code",
      "metadata": {
        "colab": {
          "base_uri": "https://localhost:8080/"
        },
        "id": "AmpmCwQ51rcV",
        "outputId": "ab1b6100-3eb1-4189-c840-acef6d67892f"
      },
      "source": [
        "collections += [None] \n",
        "\n",
        "print(collections) \n",
        "\n",
        " "
      ],
      "execution_count": null,
      "outputs": [
        {
          "output_type": "stream",
          "name": "stdout",
          "text": [
            "['list', 'tuple', 'dict', 'frozenset', 'ponyset', 'unicorndict', 'OrderedDict', 'ponyset', 'unicorndict', None]\n"
          ]
        }
      ]
    },
    {
      "cell_type": "markdown",
      "metadata": {
        "id": "0bS4dE501teN"
      },
      "source": [
        "Для удаления элемента из списка можно использовать ключевое слово del. "
      ]
    },
    {
      "cell_type": "code",
      "metadata": {
        "colab": {
          "base_uri": "https://localhost:8080/"
        },
        "id": "jNAo-h_a1uH9",
        "outputId": "c2e6ead5-a1ca-4dbe-e15b-87cf36eea1dc"
      },
      "source": [
        "del collections[4] \n",
        "\n",
        "print(collections) "
      ],
      "execution_count": null,
      "outputs": [
        {
          "output_type": "stream",
          "name": "stdout",
          "text": [
            "['list', 'tuple', 'dict', 'set', 'ponyset', 'unicorndict', None]\n"
          ]
        }
      ]
    },
    {
      "cell_type": "markdown",
      "metadata": {
        "id": "NlBOiNr911X8"
      },
      "source": [
        "**min, max, sum **"
      ]
    },
    {
      "cell_type": "markdown",
      "metadata": {
        "id": "kUjF21VD123F"
      },
      "source": [
        "Часто нам нужно найти минимальный, максимальный элемент в массиве или посчитать сумму всех элементов, сделать это можно с помощью встроенных функций min/max/sum. "
      ]
    },
    {
      "cell_type": "code",
      "metadata": {
        "colab": {
          "base_uri": "https://localhost:8080/"
        },
        "id": "__fJWLoj151P",
        "outputId": "7dfe5b5a-c172-4e51-f60a-3ee4310bf8ce"
      },
      "source": [
        "numbers = [4, 17, 19, 9, 2, 6, 10, 13] \n",
        "\n",
        "print(min(numbers)) \n",
        "\n",
        "print(max(numbers)) \n",
        "\n",
        "print(sum(numbers)) "
      ],
      "execution_count": null,
      "outputs": [
        {
          "output_type": "stream",
          "name": "stdout",
          "text": [
            "2\n",
            "19\n",
            "80\n"
          ]
        }
      ]
    },
    {
      "cell_type": "markdown",
      "metadata": {
        "id": "v_GTuOQl1-bU"
      },
      "source": [
        "**str.join ** "
      ]
    },
    {
      "cell_type": "markdown",
      "metadata": {
        "id": "MfDFUdYD1-_c"
      },
      "source": [
        "Часто бывает полезно преобразовать список в строку, для этого можно использовать метод str.join() "
      ]
    },
    {
      "cell_type": "code",
      "metadata": {
        "colab": {
          "base_uri": "https://localhost:8080/"
        },
        "id": "wvbSMO4e2A0l",
        "outputId": "59330d48-6b4a-46ea-d97d-a6af6e168589"
      },
      "source": [
        "tag_list = ['python', 'course', 'mop'] \n",
        "\n",
        "print(', '.join(tag_list)) "
      ],
      "execution_count": null,
      "outputs": [
        {
          "output_type": "stream",
          "name": "stdout",
          "text": [
            "python, course, mop\n"
          ]
        }
      ]
    },
    {
      "cell_type": "markdown",
      "metadata": {
        "id": "3ORYDcIL2Qib"
      },
      "source": [
        "Сортировка "
      ]
    },
    {
      "cell_type": "code",
      "metadata": {
        "colab": {
          "base_uri": "https://localhost:8080/"
        },
        "id": "FUvyAzIY2UFr",
        "outputId": "3b197e49-8f21-4e16-c8c6-629eca710325"
      },
      "source": [
        "import random \n",
        "\n",
        "numbers = [] \n",
        "\n",
        "for _ in range(10): \n",
        "\n",
        "    numbers.append(random.randint(1, 20)) \n",
        "\n",
        " \n",
        "\n",
        "print(numbers) "
      ],
      "execution_count": null,
      "outputs": [
        {
          "output_type": "stream",
          "name": "stdout",
          "text": [
            "[1, 17, 16, 6, 8, 18, 7, 12, 10, 9]\n"
          ]
        }
      ]
    },
    {
      "cell_type": "code",
      "source": [
        ""
      ],
      "metadata": {
        "id": "OAny5r1RUGa_"
      },
      "execution_count": null,
      "outputs": []
    },
    {
      "cell_type": "markdown",
      "metadata": {
        "id": "sofDBHhs2Rz7"
      },
      "source": [
        "Для сортировки списка в питоне есть два способа: стандартная функция sorted, которая возвращает новый список, полученный сортировкой исходного, и метод списка .sort(), который сортирует in-place. Для сортирвоки используется алгоритм TimSort. "
      ]
    },
    {
      "cell_type": "code",
      "metadata": {
        "colab": {
          "base_uri": "https://localhost:8080/"
        },
        "id": "f55dpE2I2YOV",
        "outputId": "fd4eea5d-cf25-4b0e-c930-9bcd4b198972"
      },
      "source": [
        "print(sorted(numbers)) \n",
        "\n",
        "print(numbers) \n",
        "\n",
        "[1, 1, 1, 4, 9, 10, 13, 13, 14, 16] \n",
        "\n",
        "[13, 9, 10, 1, 1, 13, 14, 1, 16, 4]"
      ],
      "execution_count": null,
      "outputs": [
        {
          "output_type": "stream",
          "name": "stdout",
          "text": [
            "[1, 2, 3, 6, 7, 9, 9, 11, 12, 17]\n",
            "[6, 7, 3, 9, 11, 1, 17, 9, 2, 12]\n"
          ]
        },
        {
          "output_type": "execute_result",
          "data": {
            "text/plain": [
              "[13, 9, 10, 1, 1, 13, 14, 1, 16, 4]"
            ]
          },
          "metadata": {},
          "execution_count": 26
        }
      ]
    },
    {
      "cell_type": "code",
      "metadata": {
        "colab": {
          "base_uri": "https://localhost:8080/"
        },
        "id": "n_9hwTSx2cx7",
        "outputId": "e12bfe5b-696e-490c-c5be-c7f133bc2c0c"
      },
      "source": [
        "numbers.sort() \n",
        "\n",
        "print(numbers) "
      ],
      "execution_count": null,
      "outputs": [
        {
          "output_type": "stream",
          "name": "stdout",
          "text": [
            "[1, 2, 3, 6, 7, 9, 9, 11, 12, 17]\n"
          ]
        }
      ]
    },
    {
      "cell_type": "markdown",
      "metadata": {
        "id": "8QQgJ3gW2gG7"
      },
      "source": [
        "Часто бывает нужно отсортировать список в обратном порядке "
      ]
    },
    {
      "cell_type": "code",
      "metadata": {
        "colab": {
          "base_uri": "https://localhost:8080/"
        },
        "id": "8pfGkFFY2glC",
        "outputId": "bb18d1b7-2720-42a5-a55b-9ea2e5d3f04f"
      },
      "source": [
        "print(sorted(numbers, reverse=True))"
      ],
      "execution_count": null,
      "outputs": [
        {
          "output_type": "stream",
          "name": "stdout",
          "text": [
            "[17, 12, 11, 9, 9, 7, 6, 3, 2, 1]\n"
          ]
        }
      ]
    },
    {
      "cell_type": "code",
      "metadata": {
        "id": "PIPVHWrh2k9k"
      },
      "source": [
        "numbers.sort(reverse=True)"
      ],
      "execution_count": null,
      "outputs": []
    },
    {
      "cell_type": "code",
      "metadata": {
        "colab": {
          "base_uri": "https://localhost:8080/"
        },
        "id": "v3m3Bb232oCW",
        "outputId": "011ce7bd-f7ad-4d3b-e27e-c724fdd5440e"
      },
      "source": [
        "print(reversed(numbers))"
      ],
      "execution_count": null,
      "outputs": [
        {
          "output_type": "stream",
          "name": "stdout",
          "text": [
            "<list_reverseiterator object at 0x7f3d5d1292d0>\n"
          ]
        }
      ]
    },
    {
      "cell_type": "code",
      "metadata": {
        "colab": {
          "base_uri": "https://localhost:8080/"
        },
        "id": "6mRSfY4q2sBl",
        "outputId": "1d3f5f8b-5cf9-445e-dca3-a190f053f84e"
      },
      "source": [
        "print(list(reversed(numbers)))"
      ],
      "execution_count": null,
      "outputs": [
        {
          "output_type": "stream",
          "name": "stdout",
          "text": [
            "[1, 2, 3, 6, 7, 9, 9, 11, 12, 17]\n"
          ]
        }
      ]
    },
    {
      "cell_type": "markdown",
      "metadata": {
        "id": "HNIBDlX02wSk"
      },
      "source": [
        "**Методы **\n",
        "\n",
        "Кроме рассмотренных выше методов у списка есть и другие. Об этих методах вы можете почитать в документации или help(list). \n",
        "\n",
        "append \n",
        "\n",
        "clear \n",
        "\n",
        "copy \n",
        "\n",
        "count \n",
        "\n",
        "extend \n",
        "\n",
        "index \n",
        "\n",
        "insert \n",
        "\n",
        "pop \n",
        "\n",
        "remove \n",
        "\n",
        "reverse \n",
        "\n",
        "sort "
      ]
    }
  ]
}