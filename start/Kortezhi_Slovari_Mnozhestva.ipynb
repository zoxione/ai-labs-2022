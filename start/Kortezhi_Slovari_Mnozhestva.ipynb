{
  "nbformat": 4,
  "nbformat_minor": 0,
  "metadata": {
    "colab": {
      "name": "Кортежи. Словари. Множества.ipynb",
      "provenance": []
    },
    "kernelspec": {
      "name": "python3",
      "display_name": "Python 3"
    },
    "language_info": {
      "name": "python"
    }
  },
  "cells": [
    {
      "cell_type": "markdown",
      "source": [
        "# **Кортежи**\n",
        "Кортеж — по сути это неизменяемый список, который мы можем хэшировать, а значит использовать в качестве ключа в словарях, о которых мы поговорим позже."
      ],
      "metadata": {
        "id": "AX2pBfsXCq_j"
      }
    },
    {
      "cell_type": "code",
      "source": [
        "empty_tuple = ()\n",
        "empty_tuple = tuple()"
      ],
      "metadata": {
        "id": "5_e_I0zLCsdK"
      },
      "execution_count": null,
      "outputs": []
    },
    {
      "cell_type": "code",
      "source": [
        "immutables = (int, str, tuple)"
      ],
      "metadata": {
        "id": "ShjTL5P5Cw6v"
      },
      "execution_count": null,
      "outputs": []
    },
    {
      "cell_type": "code",
      "source": [
        "immutables[0] = float"
      ],
      "metadata": {
        "colab": {
          "base_uri": "https://localhost:8080/",
          "height": 165
        },
        "id": "sg-DR3OnCy9J",
        "outputId": "8bb4c499-5073-4261-ae27-087770c9fdac"
      },
      "execution_count": null,
      "outputs": [
        {
          "output_type": "error",
          "ename": "TypeError",
          "evalue": "ignored",
          "traceback": [
            "\u001b[0;31m---------------------------------------------------------------------------\u001b[0m",
            "\u001b[0;31mTypeError\u001b[0m                                 Traceback (most recent call last)",
            "\u001b[0;32m<ipython-input-3-36a3a527cff0>\u001b[0m in \u001b[0;36m<module>\u001b[0;34m()\u001b[0m\n\u001b[0;32m----> 1\u001b[0;31m \u001b[0mimmutables\u001b[0m\u001b[0;34m[\u001b[0m\u001b[0;36m0\u001b[0m\u001b[0;34m]\u001b[0m \u001b[0;34m=\u001b[0m \u001b[0mfloat\u001b[0m\u001b[0;34m\u001b[0m\u001b[0;34m\u001b[0m\u001b[0m\n\u001b[0m",
            "\u001b[0;31mTypeError\u001b[0m: 'tuple' object does not support item assignment"
          ]
        }
      ]
    },
    {
      "cell_type": "code",
      "source": [
        "blink = ([], [])\n",
        "blink[0].append(0)\n",
        "\n",
        "print(blink)"
      ],
      "metadata": {
        "colab": {
          "base_uri": "https://localhost:8080/"
        },
        "id": "yoyAhVALC1MV",
        "outputId": "a81236dc-b577-44d4-846e-d92386c888bb"
      },
      "execution_count": null,
      "outputs": [
        {
          "output_type": "stream",
          "name": "stdout",
          "text": [
            "([0], [])\n"
          ]
        }
      ]
    },
    {
      "cell_type": "code",
      "source": [
        "hash(tuple())"
      ],
      "metadata": {
        "colab": {
          "base_uri": "https://localhost:8080/"
        },
        "id": "OmZnSL8mC320",
        "outputId": "d8ec6787-287a-497d-d2fe-92b65d6352d0"
      },
      "execution_count": null,
      "outputs": [
        {
          "output_type": "execute_result",
          "data": {
            "text/plain": [
              "3527539"
            ]
          },
          "metadata": {},
          "execution_count": 5
        }
      ]
    },
    {
      "cell_type": "code",
      "source": [
        "one_element_tuple = (1,)\n",
        "guess_what = (1)\n",
        "\n",
        "type(guess_what)"
      ],
      "metadata": {
        "colab": {
          "base_uri": "https://localhost:8080/"
        },
        "id": "3r62gMn1C6vt",
        "outputId": "20b10c75-4e78-415e-e2f3-012070a59b01"
      },
      "execution_count": null,
      "outputs": [
        {
          "output_type": "execute_result",
          "data": {
            "text/plain": [
              "int"
            ]
          },
          "metadata": {},
          "execution_count": 6
        }
      ]
    },
    {
      "cell_type": "markdown",
      "source": [
        "**Списки**\n",
        "Упорядоченный изменяемый набор объектов\n",
        "Поддерживают индексы и срезы\n",
        "Поддерживают итерацию\n",
        "Встроенные функции и методы\n",
        "**Кортежи**\n",
        "Упорядоченный неизменяемый набор объектов\n",
        "Похожи на списки с поправкой на неизменяемость\n",
        "Хэшируемы"
      ],
      "metadata": {
        "id": "fgSU46i0C-Ad"
      }
    },
    {
      "cell_type": "markdown",
      "source": [
        "# **Словари**\n",
        "Словари в питоне хранят данные в виде пары ключ-значение. Ключи должны быть хэшируемы и в обычном словаре хранятся без гарантии порядка."
      ],
      "metadata": {
        "id": "AkpTKQLwDCIG"
      }
    },
    {
      "cell_type": "code",
      "source": [
        "empty_dict = {}\n",
        "empty_dict = dict()\n",
        "\n",
        "collections_map = {\n",
        "    'mutable': ['list', 'set', 'dict'],\n",
        "    'immutable': ['tuple', 'frozenset']\n",
        "}"
      ],
      "metadata": {
        "id": "40--G4aDIMIe"
      },
      "execution_count": null,
      "outputs": []
    },
    {
      "cell_type": "markdown",
      "source": [
        "Доступ к значению по ключу осуществляется за константное время, то есть не зависит от размера словаря."
      ],
      "metadata": {
        "id": "YV5Isd5jIOwU"
      }
    },
    {
      "cell_type": "code",
      "source": [
        "print(collections_map['immutable'])"
      ],
      "metadata": {
        "colab": {
          "base_uri": "https://localhost:8080/"
        },
        "id": "K6l5IkKTISqR",
        "outputId": "9ce22d59-e620-4f15-f4c1-8e61d706718d"
      },
      "execution_count": null,
      "outputs": [
        {
          "output_type": "stream",
          "name": "stdout",
          "text": [
            "['tuple', 'frozenset']\n"
          ]
        }
      ]
    },
    {
      "cell_type": "code",
      "source": [
        "print(collections_map['irresistible'])"
      ],
      "metadata": {
        "colab": {
          "base_uri": "https://localhost:8080/",
          "height": 165
        },
        "id": "rJQBKy_GIVRG",
        "outputId": "5364be9f-df16-4b43-b2e1-8a2fff141301"
      },
      "execution_count": null,
      "outputs": [
        {
          "output_type": "error",
          "ename": "KeyError",
          "evalue": "ignored",
          "traceback": [
            "\u001b[0;31m---------------------------------------------------------------------------\u001b[0m",
            "\u001b[0;31mKeyError\u001b[0m                                  Traceback (most recent call last)",
            "\u001b[0;32m<ipython-input-9-ac2078f85c70>\u001b[0m in \u001b[0;36m<module>\u001b[0;34m()\u001b[0m\n\u001b[0;32m----> 1\u001b[0;31m \u001b[0mprint\u001b[0m\u001b[0;34m(\u001b[0m\u001b[0mcollections_map\u001b[0m\u001b[0;34m[\u001b[0m\u001b[0;34m'irresistible'\u001b[0m\u001b[0;34m]\u001b[0m\u001b[0;34m)\u001b[0m\u001b[0;34m\u001b[0m\u001b[0;34m\u001b[0m\u001b[0m\n\u001b[0m",
            "\u001b[0;31mKeyError\u001b[0m: 'irresistible'"
          ]
        }
      ]
    },
    {
      "cell_type": "markdown",
      "source": [
        "Часто бывает полезно попытаться достать значение по ключу из словаря, а в случае отсутствия ключа вернуть какое-то стандартное значение."
      ],
      "metadata": {
        "id": "olPbPldGIXsG"
      }
    },
    {
      "cell_type": "code",
      "source": [
        "print(collections_map.get('irresistible', 'not found'))"
      ],
      "metadata": {
        "colab": {
          "base_uri": "https://localhost:8080/"
        },
        "id": "ThWyLcPhIa_-",
        "outputId": "7d11d14d-cc9d-4451-86fe-b054356e14d3"
      },
      "execution_count": null,
      "outputs": [
        {
          "output_type": "stream",
          "name": "stdout",
          "text": [
            "not found\n"
          ]
        }
      ]
    },
    {
      "cell_type": "markdown",
      "source": [
        "Проверка на вхождения ключа в словарь так же осуществляется за константное время и выполняется с помощью ключевого слова in"
      ],
      "metadata": {
        "id": "UDiSNlu5Ie2U"
      }
    },
    {
      "cell_type": "code",
      "source": [
        "'mutable' in collections_map"
      ],
      "metadata": {
        "colab": {
          "base_uri": "https://localhost:8080/"
        },
        "id": "GyXISBfOIh7z",
        "outputId": "94a4352f-d696-459b-b68b-a5d31848c859"
      },
      "execution_count": null,
      "outputs": [
        {
          "output_type": "execute_result",
          "data": {
            "text/plain": [
              "True"
            ]
          },
          "metadata": {},
          "execution_count": 11
        }
      ]
    },
    {
      "cell_type": "markdown",
      "source": [
        "# **Добавление и удаление элементов**\n",
        "Словари в питоне являются изменяемой структурой данных, а значит мы можем добавлять новые значения и удалять не нужные."
      ],
      "metadata": {
        "id": "cEcpu5HbIkSY"
      }
    },
    {
      "cell_type": "code",
      "source": [
        "beatles_map = {\n",
        "    'Paul': 'Bass',\n",
        "    'John': 'Guitar',\n",
        "    'George': 'Guitar',\n",
        "}\n",
        "\n",
        "print(beatles_map)"
      ],
      "metadata": {
        "colab": {
          "base_uri": "https://localhost:8080/"
        },
        "id": "QUCoFl0nIoYP",
        "outputId": "cc4f8ee5-ea67-49b6-e55f-2298c5899a24"
      },
      "execution_count": null,
      "outputs": [
        {
          "output_type": "stream",
          "name": "stdout",
          "text": [
            "{'Paul': 'Bass', 'John': 'Guitar', 'George': 'Guitar'}\n"
          ]
        }
      ]
    },
    {
      "cell_type": "code",
      "source": [
        "beatles_map['Ringo'] = 'Drums'\n",
        "\n",
        "print(beatles_map)"
      ],
      "metadata": {
        "colab": {
          "base_uri": "https://localhost:8080/"
        },
        "id": "ki9bVaeYIqg9",
        "outputId": "f9ea96a7-4277-4d96-967f-945d626ec0bb"
      },
      "execution_count": null,
      "outputs": [
        {
          "output_type": "stream",
          "name": "stdout",
          "text": [
            "{'Paul': 'Bass', 'John': 'Guitar', 'George': 'Guitar', 'Ringo': 'Drums'}\n"
          ]
        }
      ]
    },
    {
      "cell_type": "code",
      "source": [
        "del beatles_map['John']\n",
        "\n",
        "print(beatles_map)"
      ],
      "metadata": {
        "colab": {
          "base_uri": "https://localhost:8080/"
        },
        "id": "Bg8-a2abIsv7",
        "outputId": "b71e9bc1-0fed-44c9-b77a-572e77a6a2ca"
      },
      "execution_count": null,
      "outputs": [
        {
          "output_type": "stream",
          "name": "stdout",
          "text": [
            "{'Paul': 'Bass', 'George': 'Guitar', 'Ringo': 'Drums'}\n"
          ]
        }
      ]
    },
    {
      "cell_type": "code",
      "source": [
        "beatles_map.update({\n",
        "    'John': 'Guitar'\n",
        "})\n",
        "\n",
        "print(beatles_map)"
      ],
      "metadata": {
        "colab": {
          "base_uri": "https://localhost:8080/"
        },
        "id": "I5tgwhVRIu8K",
        "outputId": "afb45a88-baa3-45cc-9eb8-891799000f42"
      },
      "execution_count": null,
      "outputs": [
        {
          "output_type": "stream",
          "name": "stdout",
          "text": [
            "{'Paul': 'Bass', 'George': 'Guitar', 'Ringo': 'Drums', 'John': 'Guitar'}\n"
          ]
        }
      ]
    },
    {
      "cell_type": "code",
      "source": [
        "print(beatles_map.pop('Ringo'))\n",
        "\n",
        "print(beatles_map)"
      ],
      "metadata": {
        "colab": {
          "base_uri": "https://localhost:8080/"
        },
        "id": "iYK7Njd1IxO8",
        "outputId": "6d2b9a2c-d3ca-4774-9392-550d6518823a"
      },
      "execution_count": null,
      "outputs": [
        {
          "output_type": "stream",
          "name": "stdout",
          "text": [
            "Drums\n",
            "{'Paul': 'Bass', 'George': 'Guitar', 'John': 'Guitar'}\n"
          ]
        }
      ]
    },
    {
      "cell_type": "code",
      "source": [
        "unknown_dict = {}\n",
        "\n",
        "print(unknown_dict.setdefault('key', 'default'))"
      ],
      "metadata": {
        "colab": {
          "base_uri": "https://localhost:8080/"
        },
        "id": "6Rgu72bHIzi7",
        "outputId": "8c9df068-7cf5-4bac-a856-0001f1ee5ac8"
      },
      "execution_count": null,
      "outputs": [
        {
          "output_type": "stream",
          "name": "stdout",
          "text": [
            "default\n"
          ]
        }
      ]
    },
    {
      "cell_type": "code",
      "source": [
        "print(unknown_dict)"
      ],
      "metadata": {
        "colab": {
          "base_uri": "https://localhost:8080/"
        },
        "id": "7JrNy-ZTI2UB",
        "outputId": "0ce94a30-5a2f-4b3a-d9db-121636cf4b21"
      },
      "execution_count": null,
      "outputs": [
        {
          "output_type": "stream",
          "name": "stdout",
          "text": [
            "{'key': 'default'}\n"
          ]
        }
      ]
    },
    {
      "cell_type": "code",
      "source": [
        "print(unknown_dict.setdefault('key', 'new_default'))"
      ],
      "metadata": {
        "colab": {
          "base_uri": "https://localhost:8080/"
        },
        "id": "-_Za45alI4Xl",
        "outputId": "ee03ee9c-faeb-4cf0-b243-038473d5088f"
      },
      "execution_count": null,
      "outputs": [
        {
          "output_type": "stream",
          "name": "stdout",
          "text": [
            "default\n"
          ]
        }
      ]
    },
    {
      "cell_type": "markdown",
      "source": [
        "# **Итерация**\n",
        "Словари как и другие коллекции поддерживает протокол итерации и по умолчанию итерация идет по ключам."
      ],
      "metadata": {
        "id": "gCtmL2q4I7pW"
      }
    },
    {
      "cell_type": "code",
      "source": [
        "print(collections_map)\n",
        "\n",
        "for key in collections_map:\n",
        "    print(key)"
      ],
      "metadata": {
        "colab": {
          "base_uri": "https://localhost:8080/"
        },
        "id": "scWOAjYQI_mN",
        "outputId": "b5bae1b7-1a79-457d-9d1c-311bb914153f"
      },
      "execution_count": null,
      "outputs": [
        {
          "output_type": "stream",
          "name": "stdout",
          "text": [
            "{'mutable': ['list', 'set', 'dict'], 'immutable': ['tuple', 'frozenset']}\n",
            "mutable\n",
            "immutable\n"
          ]
        }
      ]
    },
    {
      "cell_type": "markdown",
      "source": [
        "Для итерации по ключам и значениям одновременно используется метод словаря .items()."
      ],
      "metadata": {
        "id": "h8DaWZ-tJCAI"
      }
    },
    {
      "cell_type": "code",
      "source": [
        "for key, value in collections_map.items():\n",
        "    print('{} — {}'.format(key, value))"
      ],
      "metadata": {
        "colab": {
          "base_uri": "https://localhost:8080/"
        },
        "id": "UFCILWJ5JElq",
        "outputId": "ae56d60e-8417-4735-8ce3-d7de0deeffa4"
      },
      "execution_count": null,
      "outputs": [
        {
          "output_type": "stream",
          "name": "stdout",
          "text": [
            "mutable — ['list', 'set', 'dict']\n",
            "immutable — ['tuple', 'frozenset']\n"
          ]
        }
      ]
    },
    {
      "cell_type": "code",
      "source": [
        "for value in collections_map.values():\n",
        "    print(value)"
      ],
      "metadata": {
        "colab": {
          "base_uri": "https://localhost:8080/"
        },
        "id": "EFhe8D9_JGxQ",
        "outputId": "ec6e5456-92fa-400c-b973-b4a506892a88"
      },
      "execution_count": null,
      "outputs": [
        {
          "output_type": "stream",
          "name": "stdout",
          "text": [
            "['list', 'set', 'dict']\n",
            "['tuple', 'frozenset']\n"
          ]
        }
      ]
    },
    {
      "cell_type": "markdown",
      "source": [
        "# **OrderedDict**"
      ],
      "metadata": {
        "id": "WDyl53qKJI5i"
      }
    },
    {
      "cell_type": "code",
      "source": [
        "from collections import OrderedDict\n",
        "\n",
        "\n",
        "ordered = OrderedDict()\n",
        "\n",
        "for number in range(10):\n",
        "    ordered[number] = str(number)\n",
        "    \n",
        "for key in ordered:\n",
        "    print(key)"
      ],
      "metadata": {
        "colab": {
          "base_uri": "https://localhost:8080/"
        },
        "id": "Ln3Ad7OVJMbt",
        "outputId": "3b419602-dc50-4966-9b15-6a792df7890f"
      },
      "execution_count": null,
      "outputs": [
        {
          "output_type": "stream",
          "name": "stdout",
          "text": [
            "0\n",
            "1\n",
            "2\n",
            "3\n",
            "4\n",
            "5\n",
            "6\n",
            "7\n",
            "8\n",
            "9\n"
          ]
        }
      ]
    },
    {
      "cell_type": "markdown",
      "source": [
        "# **Словари**\n",
        "Изменяемый неупорядоченный набор пар ключ-значение\n",
        "Быстрый доступ к значению по ключу\n",
        "Быстрая проверка на вхождение ключа в словарь"
      ],
      "metadata": {
        "id": "zGPDfiXTJPd0"
      }
    },
    {
      "cell_type": "markdown",
      "source": [
        "# **Множества**\n",
        "Множество в питоне — это неупорядоченный набор уникальных объектов. Множества изменяемы и чаще всего используются для удаление дубликатов и всевозможных проверок на вхождение."
      ],
      "metadata": {
        "id": "GNPDm-cXJSgZ"
      }
    },
    {
      "cell_type": "code",
      "source": [
        "empty_set = set()\n",
        "number_set = {1, 2, 3, 3, 4, 5}\n",
        "\n",
        "print(number_set)"
      ],
      "metadata": {
        "colab": {
          "base_uri": "https://localhost:8080/"
        },
        "id": "YhZ2VpROJZYP",
        "outputId": "f249c88f-cbbb-4170-ad06-3c3aef3b3a64"
      },
      "execution_count": null,
      "outputs": [
        {
          "output_type": "stream",
          "name": "stdout",
          "text": [
            "{1, 2, 3, 4, 5}\n"
          ]
        }
      ]
    },
    {
      "cell_type": "markdown",
      "source": [
        "Чтобы проверить, содержится ли объект в множестве, используется уже знакомое нам ключевое слово in. Проверка выполняется за константное время, время выполнения операции не зависит от размера множества. Это достигается засчет хэширования каждого элемента структуры по аналогии со словарями. По полученному от хэш-функции ключу и происходит поиск объекта. Таким образом во множествах могут содержаться только хэшируемые объекты."
      ],
      "metadata": {
        "id": "TvdnsQORJbpJ"
      }
    },
    {
      "cell_type": "code",
      "source": [
        "print(2 in number_set)"
      ],
      "metadata": {
        "colab": {
          "base_uri": "https://localhost:8080/"
        },
        "id": "HI0oyulKJeDx",
        "outputId": "eb58d5f7-0bd2-46f1-c89e-1282f07d67ca"
      },
      "execution_count": null,
      "outputs": [
        {
          "output_type": "stream",
          "name": "stdout",
          "text": [
            "True\n"
          ]
        }
      ]
    },
    {
      "cell_type": "markdown",
      "source": [
        "Чтобы добавить элемент в множество, используется метод add. Так же множества в питоне поддерживают стандартные операции на множествами, такие как объединение, разность, пересечение и симметрическая разность."
      ],
      "metadata": {
        "id": "f1_LsXOXJgCm"
      }
    },
    {
      "cell_type": "code",
      "source": [
        "odd_set = set()\n",
        "even_set = set()\n",
        "\n",
        "for number in range(10):\n",
        "    if number % 2:\n",
        "        odd_set.add(number)\n",
        "    else:\n",
        "        even_set.add(number)\n",
        "        \n",
        "print(odd_set)\n",
        "print(even_set)"
      ],
      "metadata": {
        "colab": {
          "base_uri": "https://localhost:8080/"
        },
        "id": "F-j5upRYJij9",
        "outputId": "d1f85909-3f67-4404-90f8-cf990c9fb7d9"
      },
      "execution_count": null,
      "outputs": [
        {
          "output_type": "stream",
          "name": "stdout",
          "text": [
            "{1, 3, 5, 7, 9}\n",
            "{0, 2, 4, 6, 8}\n"
          ]
        }
      ]
    },
    {
      "cell_type": "code",
      "source": [
        "union_set = odd_set | even_set\n",
        "union_set = odd_set.union(even_set)\n",
        "\n",
        "print(union_set)"
      ],
      "metadata": {
        "colab": {
          "base_uri": "https://localhost:8080/"
        },
        "id": "OtC5_98BJk9A",
        "outputId": "dcadbe9d-81aa-40c9-eeaf-d660f5e71f6e"
      },
      "execution_count": null,
      "outputs": [
        {
          "output_type": "stream",
          "name": "stdout",
          "text": [
            "{0, 1, 2, 3, 4, 5, 6, 7, 8, 9}\n"
          ]
        }
      ]
    },
    {
      "cell_type": "code",
      "source": [
        "intersection_set = odd_set & even_set\n",
        "intersection_set = odd_set.intersection(even_set)\n",
        "\n",
        "print(intersection_set)"
      ],
      "metadata": {
        "colab": {
          "base_uri": "https://localhost:8080/"
        },
        "id": "SF-tOifyJncR",
        "outputId": "3e21380a-e105-4152-f338-22607b6f943d"
      },
      "execution_count": null,
      "outputs": [
        {
          "output_type": "stream",
          "name": "stdout",
          "text": [
            "set()\n"
          ]
        }
      ]
    },
    {
      "cell_type": "code",
      "source": [
        "difference_set = odd_set - even_set\n",
        "difference_set = odd_set.difference(even_set)\n",
        "\n",
        "print(difference_set)"
      ],
      "metadata": {
        "colab": {
          "base_uri": "https://localhost:8080/"
        },
        "id": "K-w2WaRGJlIr",
        "outputId": "aa59d7de-b65c-49fe-cf33-3a7d4be5d250"
      },
      "execution_count": null,
      "outputs": [
        {
          "output_type": "stream",
          "name": "stdout",
          "text": [
            "{1, 3, 5, 7, 9}\n"
          ]
        }
      ]
    },
    {
      "cell_type": "code",
      "source": [
        "symmetric_difference_set = odd_set ^ even_set\n",
        "symmetric_difference_set = odd_set.symmetric_difference(even_set)\n",
        "\n",
        "print(symmetric_difference_set)"
      ],
      "metadata": {
        "colab": {
          "base_uri": "https://localhost:8080/"
        },
        "id": "vY9DOlRqJsmx",
        "outputId": "8c08e4ce-fe1e-470b-ff6d-f9c681f6fca3"
      },
      "execution_count": null,
      "outputs": [
        {
          "output_type": "stream",
          "name": "stdout",
          "text": [
            "{0, 1, 2, 3, 4, 5, 6, 7, 8, 9}\n"
          ]
        }
      ]
    },
    {
      "cell_type": "markdown",
      "source": [
        "Для удаления конкретного элемента существует метод remove, для удаления любого можно использовать pop. Остальные методы можно посмотреть в help или документации."
      ],
      "metadata": {
        "id": "yuCnbXz9Ju0S"
      }
    },
    {
      "cell_type": "code",
      "source": [
        "even_set.remove(2)\n",
        "print(even_set)"
      ],
      "metadata": {
        "colab": {
          "base_uri": "https://localhost:8080/"
        },
        "id": "JJnYs-95Jylu",
        "outputId": "13e48f6b-f6f2-4227-b0d4-c0b888f1b63a"
      },
      "execution_count": null,
      "outputs": [
        {
          "output_type": "stream",
          "name": "stdout",
          "text": [
            "{0, 4, 6, 8}\n"
          ]
        }
      ]
    },
    {
      "cell_type": "code",
      "source": [
        "even_set.pop()"
      ],
      "metadata": {
        "colab": {
          "base_uri": "https://localhost:8080/"
        },
        "id": "qF_dtofKJ8KO",
        "outputId": "fae6650a-9586-4485-9f77-50c7fb32e4ec"
      },
      "execution_count": null,
      "outputs": [
        {
          "output_type": "execute_result",
          "data": {
            "text/plain": [
              "0"
            ]
          },
          "metadata": {},
          "execution_count": 32
        }
      ]
    },
    {
      "cell_type": "code",
      "source": [
        "Также в питоне существует тип frozenset, который является неизменяемым множеством."
      ],
      "metadata": {
        "colab": {
          "base_uri": "https://localhost:8080/",
          "height": 130
        },
        "id": "OLauoTd0J-o8",
        "outputId": "9237b177-c94c-4797-d26c-e6c4ab13a608"
      },
      "execution_count": null,
      "outputs": [
        {
          "output_type": "error",
          "ename": "SyntaxError",
          "evalue": "ignored",
          "traceback": [
            "\u001b[0;36m  File \u001b[0;32m\"<ipython-input-33-ff60cf6393db>\"\u001b[0;36m, line \u001b[0;32m1\u001b[0m\n\u001b[0;31m    Также в питоне существует тип frozenset, который является неизменяемым множеством.\u001b[0m\n\u001b[0m          ^\u001b[0m\n\u001b[0;31mSyntaxError\u001b[0m\u001b[0;31m:\u001b[0m invalid syntax\n"
          ]
        }
      ]
    },
    {
      "cell_type": "code",
      "source": [
        "frozen = frozenset(['Anna', 'Elsa', 'Kristoff'])\n",
        "\n",
        "frozen.add('Olaf')"
      ],
      "metadata": {
        "colab": {
          "base_uri": "https://localhost:8080/",
          "height": 200
        },
        "id": "QRc3YMovKDIc",
        "outputId": "542011b9-c2ba-4abd-9c1e-b6ab294693be"
      },
      "execution_count": null,
      "outputs": [
        {
          "output_type": "error",
          "ename": "AttributeError",
          "evalue": "ignored",
          "traceback": [
            "\u001b[0;31m---------------------------------------------------------------------------\u001b[0m",
            "\u001b[0;31mAttributeError\u001b[0m                            Traceback (most recent call last)",
            "\u001b[0;32m<ipython-input-34-6d17842e4389>\u001b[0m in \u001b[0;36m<module>\u001b[0;34m()\u001b[0m\n\u001b[1;32m      1\u001b[0m \u001b[0mfrozen\u001b[0m \u001b[0;34m=\u001b[0m \u001b[0mfrozenset\u001b[0m\u001b[0;34m(\u001b[0m\u001b[0;34m[\u001b[0m\u001b[0;34m'Anna'\u001b[0m\u001b[0;34m,\u001b[0m \u001b[0;34m'Elsa'\u001b[0m\u001b[0;34m,\u001b[0m \u001b[0;34m'Kristoff'\u001b[0m\u001b[0;34m]\u001b[0m\u001b[0;34m)\u001b[0m\u001b[0;34m\u001b[0m\u001b[0;34m\u001b[0m\u001b[0m\n\u001b[1;32m      2\u001b[0m \u001b[0;34m\u001b[0m\u001b[0m\n\u001b[0;32m----> 3\u001b[0;31m \u001b[0mfrozen\u001b[0m\u001b[0;34m.\u001b[0m\u001b[0madd\u001b[0m\u001b[0;34m(\u001b[0m\u001b[0;34m'Olaf'\u001b[0m\u001b[0;34m)\u001b[0m\u001b[0;34m\u001b[0m\u001b[0;34m\u001b[0m\u001b[0m\n\u001b[0m",
            "\u001b[0;31mAttributeError\u001b[0m: 'frozenset' object has no attribute 'add'"
          ]
        }
      ]
    },
    {
      "cell_type": "markdown",
      "source": [
        "# **Множества**\n",
        "Изменяемый неупорядоченный набор уникальных объектов\n",
        "\n",
        "*   Изменяемый неупорядоченный набор уникальных объектов\n",
        "*   Математические операции над множествами\n",
        "*   Быстрая проверка на вхождение\n"
      ],
      "metadata": {
        "id": "CjXcKRNgKE-x"
      }
    }
  ]
}